{
 "cells": [
  {
   "cell_type": "markdown",
   "id": "692fc7e1",
   "metadata": {},
   "source": [
    "# My Jupyter Notebook on IBM Watson Studio"
   ]
  },
  {
   "cell_type": "markdown",
   "id": "466dca9e",
   "metadata": {},
   "source": [
    "**Zahra Aback**\n",
    "\n",
    "Senior Data Scientist"
   ]
  },
  {
   "cell_type": "markdown",
   "id": "6d1a5bb0",
   "metadata": {},
   "source": [
    "*I am interested in data science because there are more career opportunties in this field. In addition, Data science provides the tools and techniques necessary to analyze and interpret complex data sets, which can lead to more informed decision-making in a variety of contexts, from business to healthcare to government policy*"
   ]
  },
  {
   "cell_type": "markdown",
   "id": "e04e1ed3",
   "metadata": {},
   "source": [
    "### The code below will display the sum of two integers"
   ]
  },
  {
   "cell_type": "code",
   "execution_count": 1,
   "id": "78c8445b",
   "metadata": {},
   "outputs": [
    {
     "name": "stdout",
     "output_type": "stream",
     "text": [
      "12\n"
     ]
    }
   ],
   "source": [
    "print(4+8)"
   ]
  },
  {
   "cell_type": "markdown",
   "id": "095e476a",
   "metadata": {},
   "source": [
    "three most important skills for data scientists are:\n",
    "\n",
    "\n",
    "- Statistical and mathematical skills\n",
    "- Programming skills\n",
    "- Communication skills\n",
    "\n",
    "\n",
    "The top three largest city in the world:\n",
    "\n",
    "1. Tokyo, Japan \n",
    "1. Delhi, India \n",
    "1. Shanghai, China \n",
    "\n",
    "\n",
    "A link to an image:\n",
    "\n",
    "\n",
    "\"https://www.tensorflow.org/images/colab_logo_32px.png\"   # link to website\n",
    "\n",
    "<img src=\"tidyflow.png\" />   # The image file (This path is the same folder as Notebook file)\n",
    "\n",
    "## <font color = cyan> Some Colored Text in Notebook Markdown Cell </font>  # colored text\n",
    "Output:"
   ]
  },
  {
   "cell_type": "code",
   "execution_count": null,
   "id": "43558d2c",
   "metadata": {},
   "outputs": [],
   "source": []
  }
 ],
 "metadata": {
  "kernelspec": {
   "display_name": "Python 3 (ipykernel)",
   "language": "python",
   "name": "python3"
  },
  "language_info": {
   "codemirror_mode": {
    "name": "ipython",
    "version": 3
   },
   "file_extension": ".py",
   "mimetype": "text/x-python",
   "name": "python",
   "nbconvert_exporter": "python",
   "pygments_lexer": "ipython3",
   "version": "3.10.6"
  }
 },
 "nbformat": 4,
 "nbformat_minor": 5
}
